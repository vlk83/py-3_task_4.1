{
 "cells": [
  {
   "cell_type": "code",
   "execution_count": 10,
   "metadata": {},
   "outputs": [],
   "source": [
    "import pandas as pd\n",
    "PATH = '/Users/vitaliykochetkov/Documents/netology/py-3_task_4.1/names/'"
   ]
  },
  {
   "cell_type": "code",
   "execution_count": 86,
   "metadata": {},
   "outputs": [
    {
     "data": {
      "text/html": [
       "<div>\n",
       "<table border=\"1\" class=\"dataframe\">\n",
       "  <thead>\n",
       "    <tr style=\"text-align: right;\">\n",
       "      <th></th>\n",
       "      <th>Count_Total</th>\n",
       "      <th>Count_1900</th>\n",
       "      <th>Count_1950</th>\n",
       "      <th>Name</th>\n",
       "      <th>Gender</th>\n",
       "      <th>Count_2000</th>\n",
       "    </tr>\n",
       "  </thead>\n",
       "  <tbody>\n",
       "  </tbody>\n",
       "</table>\n",
       "</div>"
      ],
      "text/plain": [
       "Empty DataFrame\n",
       "Columns: [Count_Total, Count_1900, Count_1950, Name, Gender, Count_2000]\n",
       "Index: []"
      ]
     },
     "execution_count": 86,
     "metadata": {},
     "output_type": "execute_result"
    }
   ],
   "source": [
    "years = [1900, 1950, 2000]\n",
    "\n",
    "if len(years) == 1:\n",
    "    cols = ['Name','Gender', 'Count']\n",
    "    top3 = list(pd.read_csv(PATH + 'yob' + str(years[0]) + '.txt', names=cols)\\\n",
    "                .sort_values(by='Count', ascending=False).head(3).Name)\n",
    "elif len(years) == 0:\n",
    "    top3 = \"\"\n",
    "else:\n",
    "    names_merge_years = pd.DataFrame({'Name': ['_'], 'Gender': ['F'], 'Count_Total' : [0]})\n",
    "    for year in years:\n",
    "        cols = ['Name','Gender', 'Count_' + str(year)]\n",
    "        names_year = pd.read_csv(PATH + 'yob' + str(year) + '.txt', names=cols)\n",
    "        names_merge_years = pd.merge(names_merge_years, names_year, on=['Name', 'Gender'])\n",
    "        names_merge_years['Count_Total'] = names_merge_years['Count_Total'] + names_merge_years['Count_' + str(year)]\n",
    "    top3 = list(names_merge_years.sort_values(by='Count_Total', ascending=False).head(3).Name)\n",
    "\n",
    "\n",
    "names_merge_years.sort_values(by='Count_Total', ascending=False).head(9)\n"
   ]
  },
  {
   "cell_type": "code",
   "execution_count": null,
   "metadata": {},
   "outputs": [],
   "source": [
    "# count_top3([1880]) == ['John', 'William', 'Mary']\n",
    "# count_top3([1900, 1950, 2000]) == ['James', 'John', 'Robert']"
   ]
  },
  {
   "cell_type": "code",
   "execution_count": null,
   "metadata": {
    "collapsed": true
   },
   "outputs": [],
   "source": []
  }
 ],
 "metadata": {
  "kernelspec": {
   "display_name": "Python 3",
   "language": "python",
   "name": "python3"
  },
  "language_info": {
   "codemirror_mode": {
    "name": "ipython",
    "version": 3
   },
   "file_extension": ".py",
   "mimetype": "text/x-python",
   "name": "python",
   "nbconvert_exporter": "python",
   "pygments_lexer": "ipython3",
   "version": "3.6.0"
  }
 },
 "nbformat": 4,
 "nbformat_minor": 2
}
