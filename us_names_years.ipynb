{
 "cells": [
  {
   "cell_type": "code",
   "execution_count": 10,
   "metadata": {},
   "outputs": [],
   "source": [
    "import pandas as pd\n",
    "PATH = '/Users/vitaliykochetkov/Documents/netology/py-3_task_4.1/names/'"
   ]
  },
  {
   "cell_type": "code",
   "execution_count": 104,
   "metadata": {},
   "outputs": [],
   "source": [
    "years = [1900, 1950, 2000]\n",
    "\n",
    "def count_top3(years):\n",
    "    if len(years) == 1:\n",
    "        cols = ['Name','Gender', 'Count']\n",
    "        top3 = list(pd.read_csv(PATH + 'yob' + str(years[0]) + '.txt', names=cols)\\\n",
    "                    .sort_values(by='Count', ascending=False).head(3).Name)\n",
    "    elif len(years) == 0:\n",
    "        top3 = []\n",
    "    else:\n",
    "        cols = ['Name','Gender', 'Count_' + str(years[0])]\n",
    "        names_merge_years = pd.read_csv(PATH + 'yob' + str(years[0]) + '.txt', names=cols)\n",
    "        names_merge_years['Count_Total'] = names_merge_years['Count_' + str(years[0])]\n",
    "        for year in years[1:]:\n",
    "            cols = ['Name','Gender', 'Count_' + str(year)]\n",
    "            names_year = pd.read_csv(PATH + 'yob' + str(year) + '.txt', names=cols)\n",
    "            names_merge_years = pd.merge(names_merge_years, names_year, on=['Name', 'Gender'])\n",
    "            names_merge_years['Count_Total'] = names_merge_years['Count_Total'] + names_merge_years['Count_' + str(year)]\n",
    "        top3 = list(names_merge_years.sort_values(by='Count_Total', ascending=False).head(3).Name)\n",
    "    return top3\n"
   ]
  },
  {
   "cell_type": "code",
   "execution_count": 102,
   "metadata": {},
   "outputs": [
    {
     "data": {
      "text/plain": [
       "True"
      ]
     },
     "execution_count": 102,
     "metadata": {},
     "output_type": "execute_result"
    }
   ],
   "source": [
    "count_top3([1880]) == ['John', 'William', 'Mary']"
   ]
  },
  {
   "cell_type": "code",
   "execution_count": 103,
   "metadata": {},
   "outputs": [
    {
     "data": {
      "text/plain": [
       "True"
      ]
     },
     "execution_count": 103,
     "metadata": {},
     "output_type": "execute_result"
    }
   ],
   "source": [
    "count_top3([1900, 1950, 2000]) == ['James', 'John', 'Robert']"
   ]
  },
  {
   "cell_type": "code",
   "execution_count": null,
   "metadata": {},
   "outputs": [],
   "source": []
  },
  {
   "cell_type": "code",
   "execution_count": null,
   "metadata": {
    "collapsed": true
   },
   "outputs": [],
   "source": []
  }
 ],
 "metadata": {
  "kernelspec": {
   "display_name": "Python 3",
   "language": "python",
   "name": "python3"
  },
  "language_info": {
   "codemirror_mode": {
    "name": "ipython",
    "version": 3
   },
   "file_extension": ".py",
   "mimetype": "text/x-python",
   "name": "python",
   "nbconvert_exporter": "python",
   "pygments_lexer": "ipython3",
   "version": "3.6.0"
  }
 },
 "nbformat": 4,
 "nbformat_minor": 2
}
